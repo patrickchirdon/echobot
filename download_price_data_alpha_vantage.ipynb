{
  "nbformat": 4,
  "nbformat_minor": 0,
  "metadata": {
    "colab": {
      "provenance": [],
      "authorship_tag": "ABX9TyOYuDHd0uBW6qMzcI1pvt67",
      "include_colab_link": true
    },
    "kernelspec": {
      "name": "python3",
      "display_name": "Python 3"
    },
    "language_info": {
      "name": "python"
    }
  },
  "cells": [
    {
      "cell_type": "markdown",
      "metadata": {
        "id": "view-in-github",
        "colab_type": "text"
      },
      "source": [
        "<a href=\"https://colab.research.google.com/github/patrickchirdon/echobot/blob/main/download_price_data_alpha_vantage.ipynb\" target=\"_parent\"><img src=\"https://colab.research.google.com/assets/colab-badge.svg\" alt=\"Open In Colab\"/></a>"
      ]
    },
    {
      "cell_type": "code",
      "execution_count": null,
      "metadata": {
        "id": "zXK2SfJDVeUq"
      },
      "outputs": [],
      "source": [
        "# Make sure to run `pip install tqdm` before this script\n",
        "import time\n",
        "\n",
        "import pandas as pd\n",
        "from tqdm import tqdm\n",
        "\n",
        "################################################################################\n",
        "# Settings\n",
        "################################################################################\n",
        "symbols = [\"SPY\"]\n",
        "interval = \"1min\"\n",
        "api_key = \"30WM6G3P2TVGCIWL\"\n",
        "directory = \"Day 7/data/\"\n",
        "################################################################################\n",
        "\n",
        "years = 2\n",
        "months = 12\n",
        "with tqdm(total=months * years * len(symbols)) as pbar:\n",
        "    for symbol in symbols:\n",
        "        dfs = []\n",
        "        for y in range(years):\n",
        "            for m in range(months):\n",
        "                slice = f\"year{y+1}month{m+1}\"\n",
        "                url = f\"https://www.alphavantage.co/query?function=TIME_SERIES_INTRADAY_EXTENDED&symbol={symbol}&interval={interval}&slice={slice}&apikey={api_key}\"\n",
        "                df = pd.read_csv(url)\n",
        "                dfs.append(df)\n",
        "                time.sleep(\n",
        "                    13\n",
        "                )  # API call limit is 5 per minute - including some buffer time here\n",
        "                pbar.update(1)\n",
        "\n",
        "        df_all = pd.concat(dfs)\n",
        "        df_all.to_csv(f\"{directory}{symbol}_{interval}.csv\")"
      ]
    }
  ]
}