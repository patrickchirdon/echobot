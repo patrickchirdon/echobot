{
  "nbformat": 4,
  "nbformat_minor": 0,
  "metadata": {
    "colab": {
      "provenance": [],
      "authorship_tag": "ABX9TyPWY7mgvEQ5o4W76ixOQWYW",
      "include_colab_link": true
    },
    "kernelspec": {
      "name": "python3",
      "display_name": "Python 3"
    },
    "language_info": {
      "name": "python"
    }
  },
  "cells": [
    {
      "cell_type": "markdown",
      "metadata": {
        "id": "view-in-github",
        "colab_type": "text"
      },
      "source": [
        "<a href=\"https://colab.research.google.com/github/patrickchirdon/echobot/blob/main/example_stock_screener.ipynb\" target=\"_parent\"><img src=\"https://colab.research.google.com/assets/colab-badge.svg\" alt=\"Open In Colab\"/></a>"
      ]
    },
    {
      "cell_type": "code",
      "execution_count": null,
      "metadata": {
        "id": "YH52rLeQXA_N"
      },
      "outputs": [],
      "source": [
        "from datetime import datetime, timedelta\n",
        "\n",
        "import quandl\n",
        "from lumibot.backtesting import YahooDataBacktesting\n",
        "from lumibot.brokers import Alpaca\n",
        "from lumibot.strategies import Strategy\n",
        "from lumibot.traders import Trader\n",
        "\n",
        "from credentials import AlpacaConfig, QuandlConfig\n",
        "\n",
        "quandl.ApiConfig.api_key = QuandlConfig.API_KEY\n",
        "\n",
        "\n",
        "# A simple strategy that buys AAPL on the first day\n",
        "class MyStrategy(Strategy):\n",
        "    def initialize(self):\n",
        "        self.sleeptime = \"1D\"\n",
        "\n",
        "    def before_market_opens(self):\n",
        "        self.got_funding_volume = False\n",
        "        # Check if we are backting, if so only get it once\n",
        "        if self.is_backtesting and not self.first_iteration:\n",
        "            self.got_funding_volume = True\n",
        "\n",
        "        if not self.got_funding_volume:\n",
        "            self.funding_volume = quandl.get(\"FRED/OBFRVOL\")\n",
        "\n",
        "    def on_trading_iteration(self):\n",
        "        dt = self.get_datetime()\n",
        "        # Get the funding volume for today\n",
        "        row = self.funding_volume.loc[(self.funding_volume.index.date == dt.date())]\n",
        "\n",
        "        # Error checking\n",
        "        if len(row) > 0:\n",
        "            funding_vol = row.iloc[-1][\"Value\"]\n",
        "        else:\n",
        "            funding_vol = 99999999\n",
        "\n",
        "        # Trading logic\n",
        "        if funding_vol < 100:\n",
        "            aapl_price = self.get_last_price(\"AAPL\")\n",
        "            quantity = self.cash // aapl_price\n",
        "            order = self.create_order(\"AAPL\", quantity, \"buy\")\n",
        "            self.submit_order(order)\n",
        "\n",
        "        else:\n",
        "            self.sell_all()\n",
        "\n",
        "\n",
        "###\n",
        "# Backtest\n",
        "###\n",
        "\n",
        "# Pick the dates that you want to start and end your backtest\n",
        "# and the allocated budget\n",
        "backtesting_start = datetime(2020, 1, 1)\n",
        "backtesting_end = datetime(2022, 3, 30)\n",
        "\n",
        "# Run the backtest\n",
        "MyStrategy.backtest(\n",
        "    YahooDataBacktesting,\n",
        "    backtesting_start,\n",
        "    backtesting_end,\n",
        ")\n",
        "\n",
        "\n",
        "###\n",
        "# Live Trading\n",
        "###\n",
        "\n",
        "broker = Alpaca(AlpacaConfig)\n",
        "strategy = MyStrategy(broker=broker)\n",
        "trader = Trader()\n",
        "trader.add_strategy(strategy)\n",
        "trader.run_all()"
      ]
    }
  ]
}