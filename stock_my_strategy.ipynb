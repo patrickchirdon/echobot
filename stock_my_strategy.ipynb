{
  "nbformat": 4,
  "nbformat_minor": 0,
  "metadata": {
    "colab": {
      "provenance": [],
      "authorship_tag": "ABX9TyNzm6daoWLojJ12WxM7UnJ+",
      "include_colab_link": true
    },
    "kernelspec": {
      "name": "python3",
      "display_name": "Python 3"
    },
    "language_info": {
      "name": "python"
    }
  },
  "cells": [
    {
      "cell_type": "markdown",
      "metadata": {
        "id": "view-in-github",
        "colab_type": "text"
      },
      "source": [
        "<a href=\"https://colab.research.google.com/github/patrickchirdon/echobot/blob/main/stock_my_strategy.ipynb\" target=\"_parent\"><img src=\"https://colab.research.google.com/assets/colab-badge.svg\" alt=\"Open In Colab\"/></a>"
      ]
    },
    {
      "cell_type": "code",
      "execution_count": null,
      "metadata": {
        "id": "6KVkw-3Ki4vN"
      },
      "outputs": [],
      "source": [
        "import logging\n",
        "import random\n",
        "from datetime import timedelta\n",
        "\n",
        "from lumibot.data_sources import AlpacaData\n",
        "from lumibot.strategies.strategy import Strategy\n",
        "\n",
        "\"\"\"\n",
        "Strategy Description\n",
        "This is meant to be a template to begin building strategies from. It will simply buy \n",
        "10 shares of `buy_symbol` the first day, sell them all the second day, \n",
        "buy 10 shares the next day, then sell them all on the fourth day, etc.\n",
        "\"\"\"\n",
        "\n",
        "\n",
        "class MyStrategy(Strategy):\n",
        "    # =====Overloading lifecycle methods=============\n",
        "\n",
        "    def initialize(self, buy_symbol=\"AGG\"):\n",
        "        # Set the initial variables or constants\n",
        "\n",
        "        # Built in Variables\n",
        "        self.sleeptime = 1\n",
        "\n",
        "        # Our Own Variables\n",
        "        self.counter = 0\n",
        "        self.buy_symbol = buy_symbol\n",
        "\n",
        "    def on_trading_iteration(self):\n",
        "        # What to do each iteration\n",
        "        all_positions = self.get_tracked_positions()\n",
        "        if len(all_positions) > 0:\n",
        "            for position in all_positions:\n",
        "                selling_order = self.create_order(\n",
        "                    self.buy_symbol, position.quantity, \"sell\"\n",
        "                )\n",
        "                self.submit_order(selling_order)\n",
        "\n",
        "        # We can also do this to sell all our positions:\n",
        "        # self.sell_all()\n",
        "\n",
        "        if self.counter % 2 == 0:\n",
        "            purchase_order = self.create_order(self.buy_symbol, 10, \"buy\")\n",
        "            self.submit_order(purchase_order)\n",
        "\n",
        "        self.counter = self.counter + 1\n",
        "\n",
        "        # Wait until the end of the day\n",
        "        self.await_market_to_close()\n",
        "\n",
        "    def on_abrupt_closing(self):\n",
        "        self.sell_all()\n",
        "\n",
        "    def trace_stats(self, context, snapshot_before):\n",
        "        random_number = random.randint(0, 100)\n",
        "        row = {\"my_custom_stat\": random_number, \"counter\": self.counter}\n",
        "\n",
        "        return row"
      ]
    }
  ]
}