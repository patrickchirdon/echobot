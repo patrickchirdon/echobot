{
  "nbformat": 4,
  "nbformat_minor": 0,
  "metadata": {
    "colab": {
      "provenance": [],
      "authorship_tag": "ABX9TyN3qsY//s8HHt51eB1CiBk8",
      "include_colab_link": true
    },
    "kernelspec": {
      "name": "python3",
      "display_name": "Python 3"
    },
    "language_info": {
      "name": "python"
    }
  },
  "cells": [
    {
      "cell_type": "markdown",
      "metadata": {
        "id": "view-in-github",
        "colab_type": "text"
      },
      "source": [
        "<a href=\"https://colab.research.google.com/github/patrickchirdon/echobot/blob/main/stock_sell_if_down.ipynb\" target=\"_parent\"><img src=\"https://colab.research.google.com/assets/colab-badge.svg\" alt=\"Open In Colab\"/></a>"
      ]
    },
    {
      "cell_type": "code",
      "execution_count": null,
      "metadata": {
        "id": "mS0vIxfsjMSl"
      },
      "outputs": [],
      "source": [
        "from lumibot.strategies.strategy import Strategy\n",
        "\n",
        "\n",
        "class SellIfDown(Strategy):\n",
        "    # =====Overloading lifecycle methods=============\n",
        "    def initialize(self, buy_after_days=30, change_threshold=-0.03, buy_symbol=\"SPY\"):\n",
        "        # Set the initial variables or constants\n",
        "\n",
        "        # Built in Variables\n",
        "        self.sleeptime = \"1D\"  # Could be S, M or D\n",
        "\n",
        "        # Our custom parameters\n",
        "        self.buy_symbol = buy_symbol\n",
        "        self.change_threshold = change_threshold\n",
        "        self.buy_after_days = buy_after_days\n",
        "\n",
        "        # Variables for making the strategy work\n",
        "        self.counter = self.buy_after_days\n",
        "        self.previous_price = None\n",
        "\n",
        "    def on_trading_iteration(self):\n",
        "        # What to do each iteration (every self.sleeptime minutes)\n",
        "        current_price = self.get_last_price(self.buy_symbol)\n",
        "        previous_price = self.previous_price\n",
        "\n",
        "        price_change = 0\n",
        "        if previous_price is not None:\n",
        "            price_change = (current_price / previous_price) - 1\n",
        "\n",
        "        if price_change < self.change_threshold:\n",
        "            self.sell_all()\n",
        "            self.counter = 0\n",
        "\n",
        "        elif self.counter == self.buy_after_days:\n",
        "            quantity = self.portfolio_value // current_price\n",
        "            buy_order = self.create_order(self.buy_symbol, quantity, \"buy\")\n",
        "            self.submit_order(buy_order)\n",
        "\n",
        "        # Get the last price that our symbol traded at and save it\n",
        "        self.previous_price = current_price\n",
        "\n",
        "        # Increment our counter\n",
        "        self.counter = self.counter + 1\n",
        "\n",
        "        # Wait until the end of the day (so we only trade once per day)\n",
        "        self.await_market_to_close()\n",
        "\n",
        "    def on_abrupt_closing(self):\n",
        "        # This is what we do when the program crashes\n",
        "        self.sell_all()"
      ]
    }
  ]
}