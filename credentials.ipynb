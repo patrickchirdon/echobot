{
  "nbformat": 4,
  "nbformat_minor": 0,
  "metadata": {
    "colab": {
      "provenance": [],
      "authorship_tag": "ABX9TyNc8SfqS63RLU0BDZVuCHko",
      "include_colab_link": true
    },
    "kernelspec": {
      "name": "python3",
      "display_name": "Python 3"
    },
    "language_info": {
      "name": "python"
    }
  },
  "cells": [
    {
      "cell_type": "markdown",
      "metadata": {
        "id": "view-in-github",
        "colab_type": "text"
      },
      "source": [
        "<a href=\"https://colab.research.google.com/github/patrickchirdon/echobot/blob/main/credentials.ipynb\" target=\"_parent\"><img src=\"https://colab.research.google.com/assets/colab-badge.svg\" alt=\"Open In Colab\"/></a>"
      ]
    },
    {
      "cell_type": "code",
      "execution_count": null,
      "metadata": {
        "id": "OA2mDGXlOVwU"
      },
      "outputs": [],
      "source": [
        "ALPACA_CONFIG = {\n",
        "    # Put your own Alpaca key here:\n",
        "    \"API_KEY\": \"AKWU92R18FV1ECNEO3YA\",\n",
        "    # Put your own Alpaca secret here:\n",
        "    \"API_SECRET\": \"iHGnzv4HlUXP3aTMgWEPH1uXIH2wR75XhDImG2Tr\"\",\n",
        "    # If you want to go live, you must change this\n",
        "    \"ENDPOINT\": \"https://paper-api.alpaca.markets\",\n",
        "}\n",
        "\n",
        "KUCOIN_CONFIG = {\n",
        "    \"exchange_id\": \"kucoin\",\n",
        "    \"password\": \"dajg34sakjg5290_oKG\",\n",
        "    \"apiKey\": \"63c9f5c8476698000175f279\",\n",
        "    \"secret\": \"bbecda6c-0b0e-445b-abf8-b01ae64fd538\",\n",
        "    # \"margin\": True,\n",
        "    \"sandbox\": False,\n",
        "}\n",
        "\n",
        "INTERACTIVE_BROKERS_CONFIG = {\n",
        "    \"SOCKET_PORT\": 7497,\n",
        "    \"CLIENT_ID\": \"999\",\n",
        "    \"IP\": \"127.0.0.1\"\n",
        "}\n",
        "\n",
        "# Optional - Only required for debt trading strategy\n",
        "QUANDL_CONFIG = {\"API_KEY\": \"sZBNDY6CYyVfFSwAbmeY\"}\n",
        "\n",
        "\n",
        "# Optional - Not Required\n",
        "class AlphaVantageConfig:\n",
        "    # Put your own Alpha Vantage key here:\n",
        "    API_KEY = \"30WM6G3P2TVGCIWL\""
      ]
    }
  ]
}