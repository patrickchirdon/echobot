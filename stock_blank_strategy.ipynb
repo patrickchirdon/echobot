{
  "nbformat": 4,
  "nbformat_minor": 0,
  "metadata": {
    "colab": {
      "provenance": [],
      "authorship_tag": "ABX9TyP/J/2S5vXF3YKBxoWpA6IO",
      "include_colab_link": true
    },
    "kernelspec": {
      "name": "python3",
      "display_name": "Python 3"
    },
    "language_info": {
      "name": "python"
    }
  },
  "cells": [
    {
      "cell_type": "markdown",
      "metadata": {
        "id": "view-in-github",
        "colab_type": "text"
      },
      "source": [
        "<a href=\"https://colab.research.google.com/github/patrickchirdon/echobot/blob/main/stock_blank_strategy.ipynb\" target=\"_parent\"><img src=\"https://colab.research.google.com/assets/colab-badge.svg\" alt=\"Open In Colab\"/></a>"
      ]
    },
    {
      "cell_type": "code",
      "execution_count": null,
      "metadata": {
        "id": "5nKikT_Fa2Th"
      },
      "outputs": [],
      "source": [
        "from datetime import datetime\n",
        "\n",
        "from credentials import ALPACA_CONFIG\n",
        "from lumibot.backtesting import YahooDataBacktesting\n",
        "from lumibot.brokers import Alpaca\n",
        "from lumibot.strategies.strategy import Strategy\n",
        "from lumibot.traders import Trader\n",
        "\n",
        "\"\"\"\n",
        "Strategy Description\n",
        "This is meant to be a template to begin building strategies from. It will buy \n",
        "10 shares of `buy_symbol` every day.\n",
        "\"\"\"\n",
        "\n",
        "\n",
        "class BlankStrategy(Strategy):\n",
        "    # =====Overloading lifecycle methods=============\n",
        "    parameters = {\"buy_symbol\": \"SPY\"}\n",
        "\n",
        "    def initialize(self):\n",
        "        # There is only one trading operation per day\n",
        "        # No need to sleep between iterations\n",
        "        self.sleeptime = \"1D\"\n",
        "\n",
        "        ##########################################\n",
        "        # Example (you can delete this):\n",
        "        ##########################################\n",
        "        self.did_buy = False\n",
        "        self.counter = 0\n",
        "        ##########################################\n",
        "\n",
        "    def on_trading_iteration(self):\n",
        "        ## Write your code here\n",
        "\n",
        "        ##########################################\n",
        "        # Example (you can delete this):\n",
        "        ##########################################\n",
        "        buy_symbol = self.parameters[\"buy_symbol\"]\n",
        "\n",
        "        current_value = self.get_last_price(buy_symbol)\n",
        "        if self.did_buy == False:\n",
        "            if current_value > 0:\n",
        "                order = self.create_order(buy_symbol, 10, \"buy\")\n",
        "                self.submit_order(order)\n",
        "                self.did_buy = True\n",
        "\n",
        "        ##########################################\n",
        "\n",
        "\n",
        "if __name__ == \"__main__\":\n",
        "    is_live = False\n",
        "\n",
        "    if is_live:\n",
        "        ####\n",
        "        # Run the strategy live\n",
        "        ####\n",
        "\n",
        "        trader = Trader()\n",
        "        broker = Alpaca(ALPACA_CONFIG)\n",
        "        strategy = BlankStrategy(broker=broker)\n",
        "        trader.add_strategy(strategy)\n",
        "        trader.run_all()\n",
        "\n",
        "    else:\n",
        "        ####\n",
        "        # Backtest the strategy\n",
        "        ####\n",
        "\n",
        "        # Choose the time from and to which you want to backtest\n",
        "        backtesting_start = datetime(2012, 1, 1)\n",
        "        backtesting_end = datetime(2023, 1, 1)\n",
        "\n",
        "        # Initialize the backtesting object\n",
        "        print(\"Starting Backtest...\")\n",
        "        BlankStrategy.backtest(\n",
        "            YahooDataBacktesting, backtesting_start, backtesting_end, parameters={}\n",
        "        )"
      ]
    }
  ]
}