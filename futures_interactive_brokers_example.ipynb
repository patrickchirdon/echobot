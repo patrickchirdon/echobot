{
  "nbformat": 4,
  "nbformat_minor": 0,
  "metadata": {
    "colab": {
      "provenance": [],
      "authorship_tag": "ABX9TyOxUCBmwUwLg4Pys3MDCaFY",
      "include_colab_link": true
    },
    "kernelspec": {
      "name": "python3",
      "display_name": "Python 3"
    },
    "language_info": {
      "name": "python"
    }
  },
  "cells": [
    {
      "cell_type": "markdown",
      "metadata": {
        "id": "view-in-github",
        "colab_type": "text"
      },
      "source": [
        "<a href=\"https://colab.research.google.com/github/patrickchirdon/echobot/blob/main/futures_interactive_brokers_example.ipynb\" target=\"_parent\"><img src=\"https://colab.research.google.com/assets/colab-badge.svg\" alt=\"Open In Colab\"/></a>"
      ]
    },
    {
      "cell_type": "code",
      "execution_count": null,
      "metadata": {
        "id": "lNRDQhd2YATC"
      },
      "outputs": [],
      "source": [
        "from datetime import date\n",
        "from decimal import Decimal\n",
        "\n",
        "from credentials import INTERACTIVE_BROKERS_CONFIG\n",
        "from lumibot.brokers import InteractiveBrokers\n",
        "from lumibot.entities import Asset\n",
        "from lumibot.strategies.strategy import Strategy\n",
        "from lumibot.traders import Trader\n",
        "\n",
        "\n",
        "class FuturesImportantFunctions(Strategy):\n",
        "    # =====Overloading lifecycle methods=============\n",
        "\n",
        "    def initialize(self):\n",
        "        # Set the time between trading iterations\n",
        "        self.sleeptime = \"30S\"\n",
        "        self.set_market(\"us_futures\")\n",
        "\n",
        "    def on_trading_iteration(self):\n",
        "        self.base = Asset(\n",
        "            symbol=\"ES\",\n",
        "            asset_type=\"future\",\n",
        "            expiration=date(2023, 3, 17),\n",
        "        )\n",
        "\n",
        "        ############\n",
        "        # Orders\n",
        "        ############\n",
        "\n",
        "        # Place a market order to buy 1 contract of the base asset\n",
        "        order = self.create_order(\n",
        "            asset=self.base,\n",
        "            quantity=1,\n",
        "            side=\"buy\",\n",
        "        )\n",
        "        self.submit_order(order)\n",
        "\n",
        "        # Place a limit order to sell 1 contract of the base asset\n",
        "        order = self.create_order(\n",
        "            asset=self.base,\n",
        "            quantity=1,\n",
        "            side=\"sell\",\n",
        "            limit_price=Decimal(\"100\"),\n",
        "        )\n",
        "        self.submit_order(order)\n",
        "\n",
        "        ############\n",
        "        # Positions\n",
        "        ############\n",
        "\n",
        "        positions = self.get_positions()\n",
        "        for position in positions:\n",
        "            self.log_message(f\"We currently own {position.quantity} of {position.asset}.\")\n",
        "\n",
        "    def on_filled_order(self, position, order, price, quantity, multiplier):\n",
        "        self.log_message(\n",
        "            f\"Order {order} was filled at {price} for {quantity} contracts.\"\n",
        "        )\n",
        "        \n",
        "        self.last_filled_price = price\n",
        "\n",
        "if __name__ == \"__main__\":\n",
        "    trader = Trader()\n",
        "    broker = InteractiveBrokers(INTERACTIVE_BROKERS_CONFIG)\n",
        "\n",
        "    strategy = FuturesImportantFunctions(\n",
        "        broker=broker,\n",
        "    )\n",
        "\n",
        "    trader.add_strategy(strategy)\n",
        "    strategy_executors = trader.run_all()"
      ]
    }
  ]
}